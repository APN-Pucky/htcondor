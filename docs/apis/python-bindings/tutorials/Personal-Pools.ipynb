{
 "cells": [
  {
   "cell_type": "markdown",
   "metadata": {},
   "source": [
    "# Personal Pools\n",
    "\n",
    "Launch this tutorial in a Jupyter Notebook on Binder: \n",
    "[![Binder](https://mybinder.org/badge_logo.svg)](https://mybinder.org/v2/gh/htcondor/htcondor-python-bindings-tutorials/master?urlpath=lab/tree/Personal-Pools.ipynb)"
   ]
  },
  {
   "cell_type": "markdown",
   "metadata": {},
   "source": [
    "A Personal HTCondor Pool is an HTCondor Pool that has a single owner, who is:\n",
    "- The pool’s administrator.\n",
    "- The only submitter who is allowed to submit jobs to the pool.\n",
    "- The owner of all resources managed by the pool.\n",
    "\n",
    "The HTCondor Python bindings provide a submodule, `htcondor.personal`, which allows you to manage personal pools from Python.\n",
    "Personal pools are useful for:\n",
    "- Utilizing local computational resources (i.e., all of the cores on a lab server).\n",
    "- Created an isolated testing/development environment for HTCondor workflows.\n",
    "- Serving as an entrypoint to other computational resources, like annexes or flocked pools (not yet implemented)."
   ]
  },
  {
   "cell_type": "markdown",
   "metadata": {},
   "source": [
    "We can start a personal pool by instantiating a `PersonalPool`.\n",
    "This object represents the personal pool and lets us manage its \"lifecycle\": start up and shut down.\n",
    "We can also use the `PersonalPool` to interact with the HTCondor pool once it has been started up.\n",
    "\n",
    "Each Personal Pool must have a unique \"local directory\", corresponding to the HTCondor configuration parameter `LOCAL_DIR`. For this tutorial, we'll put it in the current working directory so that it's easy to find.\n",
    "\n",
    "> Advanced users can configure the personal pool using the `PersonalPool` constructor. See the documentation for details on the available options."
   ]
  },
  {
   "cell_type": "code",
   "execution_count": 1,
   "metadata": {
    "execution": {
     "iopub.execute_input": "2021-05-15T21:28:17.941953Z",
     "iopub.status.busy": "2021-05-15T21:28:17.941000Z",
     "iopub.status.idle": "2021-05-15T21:28:17.991392Z",
     "shell.execute_reply": "2021-05-15T21:28:17.992021Z"
    }
   },
   "outputs": [],
   "source": [
    "import htcondor\n",
    "from htcondor.personal import PersonalPool\n",
    "from pathlib import Path"
   ]
  },
  {
   "cell_type": "code",
   "execution_count": 2,
   "metadata": {
    "execution": {
     "iopub.execute_input": "2021-05-15T21:28:17.996746Z",
     "iopub.status.busy": "2021-05-15T21:28:17.995970Z",
     "iopub.status.idle": "2021-05-15T21:28:18.007530Z",
     "shell.execute_reply": "2021-05-15T21:28:18.008161Z"
    }
   },
   "outputs": [
    {
     "data": {
      "text/plain": [
       "PersonalPool(local_dir=./personal-condor, state=INITIALIZED)"
      ]
     },
     "execution_count": 1,
     "metadata": {},
     "output_type": "execute_result"
    }
   ],
   "source": [
    "pool = PersonalPool(local_dir = Path.cwd() / \"personal-condor\")\n",
    "pool"
   ]
  },
  {
   "cell_type": "markdown",
   "metadata": {},
   "source": [
    "To tell the personal pool to start running, call the `start()` method:"
   ]
  },
  {
   "cell_type": "code",
   "execution_count": 3,
   "metadata": {
    "execution": {
     "iopub.execute_input": "2021-05-15T21:28:18.015843Z",
     "iopub.status.busy": "2021-05-15T21:28:18.013452Z",
     "iopub.status.idle": "2021-05-15T21:28:29.401323Z",
     "shell.execute_reply": "2021-05-15T21:28:29.400679Z"
    }
   },
   "outputs": [
    {
     "data": {
      "text/plain": [
       "PersonalPool(local_dir=./personal-condor, state=READY)"
      ]
     },
     "execution_count": 1,
     "metadata": {},
     "output_type": "execute_result"
    }
   ],
   "source": [
    "pool.start()"
   ]
  },
  {
   "cell_type": "markdown",
   "metadata": {},
   "source": [
    "`start()` doesn't return until the personal pool is `READY`, which means that it can accept commands (e.g., job submission)."
   ]
  },
  {
   "cell_type": "markdown",
   "metadata": {},
   "source": [
    "`Schedd` and `Collector` objects for the personal pool are available as properties on the `PersonalPool`:"
   ]
  },
  {
   "cell_type": "code",
   "execution_count": 4,
   "metadata": {
    "execution": {
     "iopub.execute_input": "2021-05-15T21:28:29.412495Z",
     "iopub.status.busy": "2021-05-15T21:28:29.411748Z",
     "iopub.status.idle": "2021-05-15T21:28:29.414342Z",
     "shell.execute_reply": "2021-05-15T21:28:29.414926Z"
    }
   },
   "outputs": [
    {
     "data": {
      "text/plain": [
       "<htcondor.htcondor.Schedd at 0x7f2dc4088bd0>"
      ]
     },
     "execution_count": 1,
     "metadata": {},
     "output_type": "execute_result"
    }
   ],
   "source": [
    "pool.schedd"
   ]
  },
  {
   "cell_type": "code",
   "execution_count": 5,
   "metadata": {
    "execution": {
     "iopub.execute_input": "2021-05-15T21:28:29.424146Z",
     "iopub.status.busy": "2021-05-15T21:28:29.423376Z",
     "iopub.status.idle": "2021-05-15T21:28:29.425959Z",
     "shell.execute_reply": "2021-05-15T21:28:29.426487Z"
    }
   },
   "outputs": [
    {
     "data": {
      "text/plain": [
       "<htcondor.htcondor.Collector at 0x7f2dc4096c20>"
      ]
     },
     "execution_count": 1,
     "metadata": {},
     "output_type": "execute_result"
    }
   ],
   "source": [
    "pool.collector"
   ]
  },
  {
   "cell_type": "markdown",
   "metadata": {},
   "source": [
    "For example, we can submit jobs using `pool.schedd`:"
   ]
  },
  {
   "cell_type": "code",
   "execution_count": 6,
   "metadata": {
    "execution": {
     "iopub.execute_input": "2021-05-15T21:28:29.447447Z",
     "iopub.status.busy": "2021-05-15T21:28:29.446683Z",
     "iopub.status.idle": "2021-05-15T21:28:29.449375Z",
     "shell.execute_reply": "2021-05-15T21:28:29.449985Z"
    }
   },
   "outputs": [
    {
     "name": "stdout",
     "output_type": "stream",
     "text": [
      "ClusterID is 1\n"
     ]
    }
   ],
   "source": [
    "sub = htcondor.Submit(\n",
    "    executable = \"/bin/sleep\",\n",
    "    arguments = \"$(ProcID)s\",\n",
    ")\n",
    "\n",
    "schedd = pool.schedd\n",
    "with schedd.transaction() as txn:\n",
    "    cluster_id = sub.queue(txn, 10)\n",
    "\n",
    "print(f\"ClusterID is {cluster_id}\")"
   ]
  },
  {
   "cell_type": "markdown",
   "metadata": {},
   "source": [
    "And we can query for the state of those jobs:"
   ]
  },
  {
   "cell_type": "code",
   "execution_count": 7,
   "metadata": {
    "execution": {
     "iopub.execute_input": "2021-05-15T21:28:29.463136Z",
     "iopub.status.busy": "2021-05-15T21:28:29.462360Z",
     "iopub.status.idle": "2021-05-15T21:28:29.466000Z",
     "shell.execute_reply": "2021-05-15T21:28:29.465264Z"
    }
   },
   "outputs": [
    {
     "name": "stdout",
     "output_type": "stream",
     "text": [
      "[ ClusterID = 1; ProcID = 0; JobStatus = 1; ServerTime = 1621114109 ]\n",
      "[ ClusterID = 1; ProcID = 1; JobStatus = 1; ServerTime = 1621114109 ]\n",
      "[ ClusterID = 1; ProcID = 2; JobStatus = 1; ServerTime = 1621114109 ]\n",
      "[ ClusterID = 1; ProcID = 3; JobStatus = 1; ServerTime = 1621114109 ]\n",
      "[ ClusterID = 1; ProcID = 4; JobStatus = 1; ServerTime = 1621114109 ]\n",
      "[ ClusterID = 1; ProcID = 5; JobStatus = 1; ServerTime = 1621114109 ]\n",
      "[ ClusterID = 1; ProcID = 6; JobStatus = 1; ServerTime = 1621114109 ]\n",
      "[ ClusterID = 1; ProcID = 7; JobStatus = 1; ServerTime = 1621114109 ]\n",
      "[ ClusterID = 1; ProcID = 8; JobStatus = 1; ServerTime = 1621114109 ]\n",
      "[ ClusterID = 1; ProcID = 9; JobStatus = 1; ServerTime = 1621114109 ]\n"
     ]
    }
   ],
   "source": [
    "for ad in pool.schedd.query(\n",
    "    constraint = f\"ClusterID == {cluster_id}\", \n",
    "    projection = [\"ClusterID\", \"ProcID\", \"JobStatus\"]\n",
    "):\n",
    "    print(repr(ad))"
   ]
  },
  {
   "cell_type": "markdown",
   "metadata": {},
   "source": [
    "We can use the collector to query the state of pool:"
   ]
  },
  {
   "cell_type": "code",
   "execution_count": 8,
   "metadata": {
    "execution": {
     "iopub.execute_input": "2021-05-15T21:28:29.483487Z",
     "iopub.status.busy": "2021-05-15T21:28:29.482660Z",
     "iopub.status.idle": "2021-05-15T21:28:29.485583Z",
     "shell.execute_reply": "2021-05-15T21:28:29.486165Z"
    }
   },
   "outputs": [
    {
     "name": "stdout",
     "output_type": "stream",
     "text": [
      "\n",
      "    [\n",
      "        AuthenticatedIdentity = \"condor@family\"; \n",
      "        EffectiveQuota = 0.0; \n",
      "        GroupSortKey = 0.0; \n",
      "        ResourcesUsed = 0; \n",
      "        PriorityFactor = 1.000000000000000E+03; \n",
      "        NegotiatorName = \"jovyan@f76ec786d384\"; \n",
      "        Name = \"<none>\"; \n",
      "        AccumulatedUsage = 0.0; \n",
      "        ConfigQuota = 0.0; \n",
      "        LastHeardFrom = 1621114108; \n",
      "        SubtreeQuota = 0.0; \n",
      "        DaemonStartTime = 1621114100; \n",
      "        LastUsageTime = 0; \n",
      "        SurplusPolicy = \"byquota\"; \n",
      "        TargetType = \"none\"; \n",
      "        AuthenticationMethod = \"FAMILY\"; \n",
      "        LastUpdate = 1621114108; \n",
      "        WeightedAccumulatedUsage = 0.0; \n",
      "        Priority = 5.000000000000000E+02; \n",
      "        MyType = \"Accounting\"; \n",
      "        IsAccountingGroup = true; \n",
      "        BeginUsageTime = 0; \n",
      "        AccountingGroup = \"<none>\"; \n",
      "        UpdateSequenceNumber = 5; \n",
      "        DaemonLastReconfigTime = 1621114100; \n",
      "        WeightedResourcesUsed = 0.0; \n",
      "        Requested = 0.0\n",
      "    ]\n",
      "\n",
      "    [\n",
      "        ActiveQueryWorkersPeak = 1; \n",
      "        LastHeardFrom = 1621114100; \n",
      "        ActiveQueryWorkers = 1; \n",
      "        RecentUpdatesLostMax = 0; \n",
      "        MaxJobsRunningScheduler = 0; \n",
      "        CCBRequestsNotFound = 0; \n",
      "        TargetType = \"\"; \n",
      "        MyType = \"Collector\"; \n",
      "        MaxJobsRunningMPI = 0; \n",
      "        CurrentJobsRunningPVM = 0; \n",
      "        CondorAdmin = \"root@f76ec786d384\"; \n",
      "        MaxJobsRunningLinda = 0; \n",
      "        CurrentJobsRunningJava = 0; \n",
      "        RecentCCBReconnects = 0; \n",
      "        RecentDroppedQueries = 0; \n",
      "        CurrentJobsRunningUnknown = 0; \n",
      "        MonitorSelfAge = 1; \n",
      "        PendingQueriesPeak = 0; \n",
      "        RecentCCBRequests = 0; \n",
      "        SubmitterAdsPeak = 0; \n",
      "        RecentCCBRequestsFailed = 0; \n",
      "        CurrentJobsRunningParallel = 0; \n",
      "        CCBEndpointsRegisteredPeak = 0; \n",
      "        UpdatesInitial_Collector = 1; \n",
      "        RecentDaemonCoreDutyCycle = 3.240477872898939E-03; \n",
      "        DetectedMemory = 507368; \n",
      "        DroppedQueries = 0; \n",
      "        MaxJobsRunningPipe = 0; \n",
      "        CurrentJobsRunningGrid = 0; \n",
      "        RunningJobs = 0; \n",
      "        MyAddress = \"<172.17.0.2:42628?addrs=172.17.0.2-42628&alias=f76ec786d384&noUDP&sock=collector>\"; \n",
      "        Machine = \"f76ec786d384\"; \n",
      "        DetectedCpus = 32; \n",
      "        RecentCCBRequestsSucceeded = 0; \n",
      "        CCBEndpointsConnectedPeak = 0; \n",
      "        CurrentJobsRunningLinda = 0; \n",
      "        RecentStatsLifetime = 0; \n",
      "        CondorPlatform = \"$CondorPlatform: X86_64-Ubuntu_20.04 $\"; \n",
      "        RecentUpdatesInitial_Collector = 1; \n",
      "        RecentUpdatesLost = 0; \n",
      "        MonitorSelfResidentSetSize = 6192; \n",
      "        UpdatesTotal_Collector = 1; \n",
      "        CCBEndpointsRegistered = 0; \n",
      "        CurrentJobsRunningScheduler = 0; \n",
      "        HostsOwner = 0; \n",
      "        SubmitterAds = 0; \n",
      "        CurrentJobsRunningStandard = 0; \n",
      "        RecentCCBRequestsNotFound = 0; \n",
      "        Name = \"My Pool - 127.0.0.1@f76ec786d384\"; \n",
      "        RecentForkQueriesFromCOLLECTOR = 1; \n",
      "        CurrentJobsRunningAll = 0; \n",
      "        MonitorSelfCPUUsage = 5.500000000000001E+01; \n",
      "        CCBEndpointsConnected = 0; \n",
      "        MaxJobsRunningVM = 0; \n",
      "        MaxJobsRunningJava = 0; \n",
      "        PendingQueries = 0; \n",
      "        MaxJobsRunningPVMD = 0; \n",
      "        CurrentJobsRunningVM = 0; \n",
      "        CCBRequestsFailed = 0; \n",
      "        UpdateInterval = 21600; \n",
      "        CurrentJobsRunningMPI = 0; \n",
      "        RecentUpdatesTotal = 1; \n",
      "        CurrentJobsRunningVanilla = 0; \n",
      "        IdleJobs = 0; \n",
      "        MyCurrentTime = 1621114099; \n",
      "        AddressV1 = \"{[ p=\\\"primary\\\"; a=\\\"172.17.0.2\\\"; port=42628; n=\\\"Internet\\\"; alias=\\\"f76ec786d384\\\"; spid=\\\"collector\\\"; noUDP=true; ], [ p=\\\"IPv4\\\"; a=\\\"172.17.0.2\\\"; port=42628; n=\\\"Internet\\\"; alias=\\\"f76ec786d384\\\"; spid=\\\"collector\\\"; noUDP=true; ]}\"; \n",
      "        MaxJobsRunningUnknown = 0; \n",
      "        RecentUpdatesInitial = 1; \n",
      "        UpdatesLostRatio = 0.0; \n",
      "        MaxJobsRunningVanilla = 0; \n",
      "        CurrentJobsRunningLocal = 0; \n",
      "        CCBRequestsSucceeded = 0; \n",
      "        RecentUpdatesLost_Collector = 0; \n",
      "        CurrentJobsRunningPVMD = 0; \n",
      "        DaemonCoreDutyCycle = 3.240477872898939E-03; \n",
      "        MaxJobsRunningStandard = 0; \n",
      "        CollectorIpAddr = \"<172.17.0.2:42628?addrs=172.17.0.2-42628&alias=f76ec786d384&noUDP&sock=collector>\"; \n",
      "        MonitorSelfImageSize = 16204; \n",
      "        MaxJobsRunningPVM = 0; \n",
      "        HostsClaimed = 0; \n",
      "        UpdatesInitial = 1; \n",
      "        UpdatesTotal = 1; \n",
      "        HostsTotal = 0; \n",
      "        ForkQueriesFromCOLLECTOR = 1; \n",
      "        StatsLifetime = 0; \n",
      "        UpdatesLost_Collector = 0; \n",
      "        CurrentJobsRunningPipe = 0; \n",
      "        CCBRequests = 0; \n",
      "        MonitorSelfRegisteredSocketCount = 2; \n",
      "        MaxJobsRunningAll = 0; \n",
      "        RecentUpdatesTotal_Collector = 1; \n",
      "        MonitorSelfTime = 1621114099; \n",
      "        MaxJobsRunningGrid = 0; \n",
      "        MonitorSelfSecuritySessions = 2; \n",
      "        MaxJobsRunningParallel = 0; \n",
      "        MachineAds = 0; \n",
      "        HostsUnclaimed = 0; \n",
      "        StatsLastUpdateTime = 1621114100; \n",
      "        CondorVersion = \"$CondorVersion: 8.9.11 Dec 29 2020 BuildID: Debian-8.9.11-1.2 PackageID: 8.9.11-1.2 Debian-8.9.11-1.2 $\"; \n",
      "        UpdatesLostMax = 0; \n",
      "        MachineAdsPeak = 0; \n",
      "        MaxJobsRunningLocal = 0; \n",
      "        CCBReconnects = 0; \n",
      "        RecentUpdatesLostRatio = 0.0; \n",
      "        UpdatesLost = 0\n",
      "    ]\n",
      "\n",
      "    [\n",
      "        UpdatesLost = 0; \n",
      "        LastHeardFrom = 1621114108; \n",
      "        LastBenchmark = 0; \n",
      "        TotalVirtualMemory = 519545772; \n",
      "        UpdatesHistory = \"00000000000000000000000000000000\"; \n",
      "        JobPreemptions = 0; \n",
      "        ChildCurrentRank = \n",
      "           {\n",
      "           }; \n",
      "        PartitionableSlot = true; \n",
      "        IsWakeOnLanSupported = false; \n",
      "        Cpus = 32; \n",
      "        SlotType = \"Partitionable\"; \n",
      "        ChildRetirementTimeRemaining = \n",
      "           {\n",
      "           }; \n",
      "        SlotID = 1; \n",
      "        HibernationSupportedStates = \"S4,S5\"; \n",
      "        CurrentRank = 0.0; \n",
      "        TotalLoadAvg = 1.406000000000000E+01; \n",
      "        HasMPI = true; \n",
      "        SlotTypeID = 1; \n",
      "        Machine = \"f76ec786d384\"; \n",
      "        RecentJobStarts = 0; \n",
      "        DetectedMemory = 507368; \n",
      "        CpuModelNumber = 85; \n",
      "        ChildDisk = \n",
      "           {\n",
      "           }; \n",
      "        OpSysName = \"Ubuntu\"; \n",
      "        ExpectedMachineGracefulDrainingBadput = 0; \n",
      "        HasReconnect = true; \n",
      "        NumDynamicSlots = 0; \n",
      "        ChildCpus = \n",
      "           {\n",
      "           }; \n",
      "        OpSysLongName = \"Ubuntu 20.04.2 LTS\"; \n",
      "        HasFileTransferPluginMethods = \"box,https,gdrive,dav,davs,http,onedrive,data,ftp,file,s3\"; \n",
      "        has_avx512f = true; \n",
      "        ChildRemoteUser = \n",
      "           {\n",
      "           }; \n",
      "        has_avx = true; \n",
      "        HasIOProxy = true; \n",
      "        Memory = 507368; \n",
      "        GPUs = 0; \n",
      "        has_ssse3 = true; \n",
      "        ChildRemoteOwner = \n",
      "           {\n",
      "           }; \n",
      "        OpSysLegacy = \"LINUX\"; \n",
      "        LoadAvg = 1.406000000000000E+01; \n",
      "        TargetType = \"Job\"; \n",
      "        NumPids = 0; \n",
      "        UtsnameSysname = \"Linux\"; \n",
      "        HibernationLevel = 0; \n",
      "        HardwareAddress = \"02:42:ac:11:00:02\"; \n",
      "        AuthenticatedIdentity = \"condor@family\"; \n",
      "        CondorPlatform = \"$CondorPlatform: X86_64-Ubuntu_20.04 $\"; \n",
      "        Unhibernate = MY.MachineLastMatchTime isnt undefined; \n",
      "        AddressV1 = \"{[ p=\\\"primary\\\"; a=\\\"172.17.0.2\\\"; port=42628; n=\\\"Internet\\\"; alias=\\\"f76ec786d384\\\"; spid=\\\"startd_190_e715\\\"; noUDP=true; ], [ p=\\\"IPv4\\\"; a=\\\"172.17.0.2\\\"; port=42628; n=\\\"Internet\\\"; alias=\\\"f76ec786d384\\\"; spid=\\\"startd_190_e715\\\"; noUDP=true; ]}\"; \n",
      "        TotalCondorLoadAvg = 0.0; \n",
      "        Activity = \"Idle\"; \n",
      "        ClockMin = 1288; \n",
      "        has_sse4_2 = true; \n",
      "        has_avx512dq = true; \n",
      "        MonitorSelfImageSize = 16548; \n",
      "        AcceptedWhileDraining = false; \n",
      "        MyAddress = \"<172.17.0.2:42628?addrs=172.17.0.2-42628&alias=f76ec786d384&noUDP&sock=startd_190_e715>\"; \n",
      "        KeyboardIdle = 1621114108; \n",
      "        DaemonStartTime = 1621114100; \n",
      "        State = \"Unclaimed\"; \n",
      "        MaxJobRetirementTime = 0; \n",
      "        MonitorSelfAge = 9; \n",
      "        MachineResources = \"Cpus Memory Disk Swap GPUs\"; \n",
      "        ChildName = \n",
      "           {\n",
      "           }; \n",
      "        ChildMemory = \n",
      "           {\n",
      "           }; \n",
      "        UtsnameRelease = \"3.10.0-1127.19.1.el7.x86_64\"; \n",
      "        HibernationState = \"NONE\"; \n",
      "        ChildGPUs = \n",
      "           {\n",
      "           }; \n",
      "        has_avx2 = true; \n",
      "        ExpectedMachineQuickDrainingBadput = 0; \n",
      "        StartdIpAddr = \"<172.17.0.2:42628?addrs=172.17.0.2-42628&alias=f76ec786d384&noUDP&sock=startd_190_e715>\"; \n",
      "        CpuBusyTime = 0; \n",
      "        Requirements = START && (WithinResourceLimits); \n",
      "        MyCurrentTime = 1621114108; \n",
      "        LastFetchWorkCompleted = 0; \n",
      "        TotalDisk = 213876240; \n",
      "        TotalSlots = 1; \n",
      "        TimeToLive = 2147483647; \n",
      "        NextFetchWorkDelay = -1; \n",
      "        MachineMaxVacateTime = 10 * 60; \n",
      "        ChildEnteredCurrentState = \n",
      "           {\n",
      "           }; \n",
      "        OpSysVer = 2004; \n",
      "        WakeOnLanEnabledFlags = \"NONE\"; \n",
      "        RecentJobPreemptions = 0; \n",
      "        ExpectedMachineQuickDrainingCompletion = 1621114108; \n",
      "        SlotWeight = Cpus; \n",
      "        VirtualMemory = 519545772; \n",
      "        RetirementTimeRemaining = 0; \n",
      "        HasJICLocalStdin = true; \n",
      "        TotalSlotDisk = 2.138762400000000E+08; \n",
      "        UpdateSequenceNumber = 1; \n",
      "        COLLECTOR_HOST_STRING = \"127.0.0.1:0\"; \n",
      "        WakeOnLanSupportedFlags = \"NONE\"; \n",
      "        HasPerFileEncryption = true; \n",
      "        EnteredCurrentActivity = 1621114108; \n",
      "        ConsoleIdle = 1621114108; \n",
      "        CpuBusy = ((LoadAvg - CondorLoadAvg) >= 5.000000000000000E-01); \n",
      "        UidDomain = \"f76ec786d384\"; \n",
      "        DaemonLastReconfigTime = 1621114100; \n",
      "        UpdatesSequenced = 0; \n",
      "        JobRankPreemptions = 0; \n",
      "        LastFetchWorkSpawned = 0; \n",
      "        HasTDP = true; \n",
      "        IsWakeOnLanEnabled = false; \n",
      "        MonitorSelfTime = 1621114108; \n",
      "        TotalGPUs = 0; \n",
      "        OpSysAndVer = \"Ubuntu20\"; \n",
      "        ExpectedMachineGracefulDrainingCompletion = 1621114108; \n",
      "        CondorLoadAvg = 0.0; \n",
      "        EnteredCurrentState = 1621114108; \n",
      "        FileSystemDomain = \"f76ec786d384\"; \n",
      "        CondorVersion = \"$CondorVersion: 8.9.11 Dec 29 2020 BuildID: Debian-8.9.11-1.2 PackageID: 8.9.11-1.2 Debian-8.9.11-1.2 $\"; \n",
      "        IsLocalStartd = false; \n",
      "        has_avx512_vnni = true; \n",
      "        RecentJobRankPreemptions = 0; \n",
      "        MonitorSelfRegisteredSocketCount = 0; \n",
      "        ClockDay = 6; \n",
      "        Arch = \"X86_64\"; \n",
      "        DetectedGPUs = 0; \n",
      "        JobStarts = 0; \n",
      "        UtsnameNodename = \"f76ec786d384\"; \n",
      "        TotalSlotMemory = 507368; \n",
      "        HasJICLocalConfig = true; \n",
      "        UtsnameVersion = \"#1 SMP Tue Aug 25 17:23:54 UTC 2020\"; \n",
      "        CpuIsBusy = true; \n",
      "        RecentJobUserPrioPreemptions = 0; \n",
      "        HasVM = false; \n",
      "        TotalSlotCpus = 32; \n",
      "        StarterAbilityList = \"HasFileTransferPluginMethods,HasVM,HasMPI,HasFileTransfer,HasJobDeferral,HasJobTransferPlugins,HasPerFileEncryption,HasReconnect,HasTDP,HasJICLocalStdin,HasTransferInputRemaps,HasSelfCheckpointTransfers,HasJICLocalConfig\"; \n",
      "        RecentDaemonCoreDutyCycle = 0.0; \n",
      "        WithinResourceLimits = (MY.Cpus > 0 && TARGET.RequestCpus <= MY.Cpus && MY.Memory > 0 && TARGET.RequestMemory <= MY.Memory && MY.Disk > 0 && TARGET.RequestDisk <= MY.Disk && (TARGET.RequestGPUs is undefined || MY.GPUs >= TARGET.RequestGPUs)); \n",
      "        TotalMemory = 507368; \n",
      "        PslotRollupInformation = true; \n",
      "        HasSelfCheckpointTransfers = true; \n",
      "        Rank = 0.0; \n",
      "        JobUserPrioPreemptions = 0; \n",
      "        MyType = \"Machine\"; \n",
      "        HasTransferInputRemaps = true; \n",
      "        HasJobDeferral = true; \n",
      "        ChildAccountingGroup = \n",
      "           {\n",
      "           }; \n",
      "        CanHibernate = true; \n",
      "        DaemonCoreDutyCycle = 0.0; \n",
      "        ChildState = \n",
      "           {\n",
      "           }; \n",
      "        TotalCpus = 3.200000000000000E+01; \n",
      "        Disk = 213876240; \n",
      "        ChildDSlotId = \n",
      "           {\n",
      "           }; \n",
      "        MonitorSelfCPUUsage = 6.222222222222222E+00; \n",
      "        TotalTimeOwnerIdle = 1; \n",
      "        CpuCacheSize = 11264; \n",
      "        HasJobTransferPlugins = true; \n",
      "        TotalSlotGPUs = 0; \n",
      "        OpSys = \"LINUX\"; \n",
      "        OpSysShortName = \"Ubuntu\"; \n",
      "        OpSysMajorVer = 20; \n",
      "        has_sse4_1 = true; \n",
      "        HasFileTransfer = true; \n",
      "        SubnetMask = \"255.255.0.0\"; \n",
      "        CpuFamily = 6; \n",
      "        AuthenticationMethod = \"FAMILY\"; \n",
      "        MonitorSelfSecuritySessions = 3; \n",
      "        MonitorSelfResidentSetSize = 6792; \n",
      "        Start = true; \n",
      "        UtsnameMachine = \"x86_64\"; \n",
      "        DetectedCpus = 32; \n",
      "        IsWakeAble = false; \n",
      "        Name = \"slot1@f76ec786d384\"; \n",
      "        ChildActivity = \n",
      "           {\n",
      "           }; \n",
      "        UpdatesTotal = 1\n",
      "    ]\n"
     ]
    }
   ],
   "source": [
    "# get 3 random ads from the daemons in the pool\n",
    "for ad in pool.collector.query()[:3]:\n",
    "    print(ad)"
   ]
  },
  {
   "cell_type": "markdown",
   "metadata": {},
   "source": [
    "When you're done using the personal pool, you can `stop()` it:"
   ]
  },
  {
   "cell_type": "code",
   "execution_count": 9,
   "metadata": {
    "execution": {
     "iopub.execute_input": "2021-05-15T21:28:29.493127Z",
     "iopub.status.busy": "2021-05-15T21:28:29.492510Z",
     "iopub.status.idle": "2021-05-15T21:28:30.514419Z",
     "shell.execute_reply": "2021-05-15T21:28:30.515017Z"
    }
   },
   "outputs": [
    {
     "data": {
      "text/plain": [
       "PersonalPool(local_dir=./personal-condor, state=STOPPED)"
      ]
     },
     "execution_count": 1,
     "metadata": {},
     "output_type": "execute_result"
    }
   ],
   "source": [
    "pool.stop()"
   ]
  },
  {
   "cell_type": "markdown",
   "metadata": {},
   "source": [
    "`stop()`, like `start()` will not return until the personal pool has actually stopped running.\n",
    "The personal pool will also automatically be stopped if the `PersonalPool` object is garbage-collected, or when the Python interpreter stops running.\n",
    "\n",
    "> To prevent the pool from being automatically stopped in these situations, call the `detach()` method. The corresponding `attach()` method can be used to \"re-connect\" to a detached personal pool."
   ]
  },
  {
   "cell_type": "markdown",
   "metadata": {},
   "source": [
    "When working with a personal pool in a script, you may want to use it as a context manager. This pool will automatically start and stop at the beginning and end of the context:"
   ]
  },
  {
   "cell_type": "code",
   "execution_count": 10,
   "metadata": {
    "execution": {
     "iopub.execute_input": "2021-05-15T21:28:30.520028Z",
     "iopub.status.busy": "2021-05-15T21:28:30.519299Z",
     "iopub.status.idle": "2021-05-15T21:28:42.897587Z",
     "shell.execute_reply": "2021-05-15T21:28:42.898262Z"
    }
   },
   "outputs": [
    {
     "name": "stdout",
     "output_type": "stream",
     "text": [
      "/home/jovyan/tutorials/another-personal-condor\n"
     ]
    }
   ],
   "source": [
    "with PersonalPool(local_dir = Path.cwd() / \"another-personal-condor\") as pool:  # note: no need to call start()\n",
    "    print(pool.get_config_val(\"LOCAL_DIR\"))"
   ]
  },
  {
   "cell_type": "code",
   "execution_count": null,
   "metadata": {},
   "outputs": [],
   "source": []
  }
 ],
 "metadata": {
  "kernelspec": {
   "display_name": "Python 3",
   "language": "python",
   "name": "python3"
  },
  "language_info": {
   "codemirror_mode": {
    "name": "ipython",
    "version": 3
   },
   "file_extension": ".py",
   "mimetype": "text/x-python",
   "name": "python",
   "nbconvert_exporter": "python",
   "pygments_lexer": "ipython3",
   "version": "3.9.2"
  }
 },
 "nbformat": 4,
 "nbformat_minor": 4
}
